{
 "cells": [
  {
   "cell_type": "code",
   "execution_count": 2,
   "id": "c28b4ce7",
   "metadata": {},
   "outputs": [],
   "source": [
    "import pandas as pd"
   ]
  },
  {
   "cell_type": "code",
   "execution_count": 3,
   "id": "b2bccc8c",
   "metadata": {},
   "outputs": [],
   "source": [
    "from sklearn.base import BaseEstimator, TransformerMixin\n",
    "from sklearn.pipeline import Pipeline\n",
    "from sklearn.preprocessing import MinMaxScaler\n",
    "\n",
    "import numpy as np\n",
    "\n",
    "class CombinedAttributesAdder(BaseEstimator, TransformerMixin):\n",
    "    \n",
    "    def fit(self, X, y=None):\n",
    "        return self\n",
    "    \n",
    "    def transform(self, X, y=None):\n",
    "        water_cement_ratio = X[:, 3] / X[:, 0]     \n",
    "        return np.c_[X, \n",
    "                     water_cement_ratio,\n",
    "                    ]\n",
    "    \n",
    "\n",
    "pipeline = Pipeline([('attribs_adder', CombinedAttributesAdder())])\n",
    "\n",
    "s_pipeline = Pipeline(\n",
    "    [('attribs_adder', CombinedAttributesAdder()), ('min_max_scaler', MinMaxScaler())]\n",
    ") "
   ]
  },
  {
   "cell_type": "markdown",
   "id": "eb4baf29",
   "metadata": {},
   "source": [
    "#### Load training and testing data"
   ]
  },
  {
   "cell_type": "code",
   "execution_count": 4,
   "id": "79886038",
   "metadata": {},
   "outputs": [],
   "source": [
    "df_train = pd.read_csv('concrete_data_train.csv')\n",
    "df_test = pd.read_csv('concrete_data_test.csv')"
   ]
  },
  {
   "cell_type": "markdown",
   "id": "94ae64ec",
   "metadata": {},
   "source": [
    "#### Seperate data into features (train and test) and labels(train and test)"
   ]
  },
  {
   "cell_type": "code",
   "execution_count": 5,
   "id": "d4fcf02d",
   "metadata": {},
   "outputs": [],
   "source": [
    "features = ['cement', 'BFS', 'FA', 'water', 'SPZ', 'coarse', 'fine', 'age']\n",
    "\n",
    "X_train = df_train[features]\n",
    "y_train = df_train.strength\n",
    "\n",
    "X_test = df_test[features]\n",
    "y_test = df_test.strength"
   ]
  },
  {
   "cell_type": "code",
   "execution_count": 35,
   "id": "fa8163f7",
   "metadata": {},
   "outputs": [],
   "source": [
    "# Function to save the predictions\n",
    "def save_prediction(y_true, y_pred, filename: str) -> None:\n",
    "    values = {'Actual': y_true,\n",
    "              'Predicted': y_pred,\n",
    "             }\n",
    "    df = pd.DataFrame(values)\n",
    "    df.to_csv(f'{filename}.csv', index=False)\n",
    "    print(\"saving completed\")"
   ]
  },
  {
   "cell_type": "markdown",
   "id": "95e8149c",
   "metadata": {},
   "source": [
    "#### Import machine learning algorithms"
   ]
  },
  {
   "cell_type": "code",
   "execution_count": 7,
   "id": "be4b001c",
   "metadata": {},
   "outputs": [],
   "source": [
    "from sklearn.ensemble import RandomForestRegressor\n",
    "from xgboost import XGBRegressor\n",
    "from sklearn.svm import SVR\n",
    "from sklearn_rvm import EMRVR"
   ]
  },
  {
   "cell_type": "code",
   "execution_count": 21,
   "id": "30e4d7c4",
   "metadata": {},
   "outputs": [],
   "source": [
    "from sklearn.metrics import r2_score, mean_absolute_error, mean_squared_error"
   ]
  },
  {
   "cell_type": "markdown",
   "id": "cc1cf69c",
   "metadata": {},
   "source": [
    "#### Model Performance on test dataset"
   ]
  },
  {
   "cell_type": "code",
   "execution_count": 24,
   "id": "0c3f6687",
   "metadata": {},
   "outputs": [
    {
     "name": "stdout",
     "output_type": "stream",
     "text": [
      "No Data Normalization\n",
      "XGBRegress --> Training Done\n",
      "XGBRegress --> R2=0.92\n",
      "XGBRegress --> MAE=2.80\n",
      "XGBRegress --> MSE=22.06\n",
      "XGBRegress --> RMSE=4.70\n",
      "Done\n"
     ]
    }
   ],
   "source": [
    "model = XGBRegressor(n_estimators=500)\n",
    "# model = RandomForestRegressor(n_estimators=500)\n",
    "# model = EMRVR(kernel='rbf', gamma='scale') \n",
    "# model = SVR(kernel='rbf', C=100, epsilon=0.1)\n",
    "\n",
    "# Do not change any code below unless you know what you are doing\n",
    "\n",
    "if (type(model) == RandomForestRegressor or type(model) == XGBRegressor):\n",
    "    print(\"No Data Normalization\")\n",
    "    model.fit(pipeline.fit_transform(X_train.values), y_train)\n",
    "    print(f\"{str(model)[:10]} --> Training Done\")\n",
    "    predictions = model.predict(pipeline.transform(X_test.values))\n",
    "    \n",
    "    print(f'{str(model)[:10]} --> R2={r2_score(y_test, predictions):.2f}')\n",
    "    print(f'{str(model)[:10]} --> MAE={mean_absolute_error(y_test, predictions):.2f}')\n",
    "    print(f'{str(model)[:10]} --> MSE={mean_squared_error(y_test, predictions):.2f}')\n",
    "    print(f'{str(model)[:10]} --> RMSE={mean_squared_error(y_test, predictions, squared=False):.2f}')\n",
    "    \n",
    "else:\n",
    "    print(\"Data Normalization\")\n",
    "    model.fit(s_pipeline.fit_transform(X_train.values), y_train)\n",
    "    print(f\"{str(model)} --> Training Done\")\n",
    "    predictions = model.predict(s_pipeline.transform(X_test.values))\n",
    "    \n",
    "    print(f'{str(model)} --> R2={r2_score(y_test, predictions):.2f}')\n",
    "    print(f'{str(model)} --> MAE={mean_absolute_error(y_test, predictions):.2f}')\n",
    "    print(f'{str(model)} --> MSE={mean_squared_error(y_test, predictions):.2f}')\n",
    "    print(f'{str(model)} --> RMSE={mean_squared_error(y_test, predictions, squared=False):.2f}')\n",
    "    \n",
    "print(\"Done\")"
   ]
  },
  {
   "cell_type": "markdown",
   "id": "ad6d33ba",
   "metadata": {},
   "source": [
    "#### Model performance of training dataset"
   ]
  },
  {
   "cell_type": "code",
   "execution_count": 46,
   "id": "82164866",
   "metadata": {},
   "outputs": [
    {
     "name": "stdout",
     "output_type": "stream",
     "text": [
      "Data Normalization\n",
      "SVR(C=100) --> Training Done\n",
      "SVR(C=100) --> R2=0.90\n",
      "SVR(C=100) --> MAE=3.43\n",
      "SVR(C=100) --> MSE=26.56\n",
      "SVR(C=100) --> RMSE=5.15\n",
      "Done\n"
     ]
    }
   ],
   "source": [
    "# model = XGBRegressor(n_estimators=500)\n",
    "# model = RandomForestRegressor(n_estimators=500)\n",
    "# model = EMRVR(kernel='rbf', gamma='scale') \n",
    "model = SVR(kernel='rbf', C=100, epsilon=0.1)\n",
    "\n",
    "# Do not change any code below unless you know what you are doing\n",
    "\n",
    "if (type(model) == RandomForestRegressor or type(model) == XGBRegressor):\n",
    "    print(\"No Data Normalization\")\n",
    "    model.fit(pipeline.fit_transform(X_train.values), y_train)\n",
    "    print(f\"{str(model)[:10]} --> Training Done\")\n",
    "    predictions = model.predict(pipeline.transform(X_train.values))\n",
    "    \n",
    "    print(f'{str(model)[:10]} --> R2={r2_score(y_train, predictions):.2f}')\n",
    "    print(f'{str(model)[:10]} --> MAE={mean_absolute_error(y_train, predictions):.2f}')\n",
    "    print(f'{str(model)[:10]} --> MSE={mean_squared_error(y_train, predictions):.2f}')\n",
    "    print(f'{str(model)[:10]} --> RMSE={mean_squared_error(y_train, predictions, squared=False):.2f}')\n",
    "    \n",
    "else:\n",
    "    print(\"Data Normalization\")\n",
    "    model.fit(s_pipeline.fit_transform(X_train.values), y_train)\n",
    "    print(f\"{str(model)} --> Training Done\")\n",
    "    predictions = model.predict(s_pipeline.transform(X_train.values))\n",
    "    \n",
    "    print(f'{str(model)} --> R2={r2_score(y_train, predictions):.2f}')\n",
    "    print(f'{str(model)} --> MAE={mean_absolute_error(y_train, predictions):.2f}')\n",
    "    print(f'{str(model)} --> MSE={mean_squared_error(y_train, predictions):.2f}')\n",
    "    print(f'{str(model)} --> RMSE={mean_squared_error(y_train, predictions, squared=False):.2f}')\n",
    "    \n",
    "print(\"Done\")"
   ]
  },
  {
   "cell_type": "code",
   "execution_count": 47,
   "id": "e0a480db",
   "metadata": {},
   "outputs": [
    {
     "name": "stdout",
     "output_type": "stream",
     "text": [
      "saving completed\n"
     ]
    }
   ],
   "source": [
    "# save_prediction(y_test, predictions, '_predictions_on_test_data')\n",
    "save_prediction(y_train, predictions, 'PREDICTIONS/svm_predictions_on_train_data')"
   ]
  }
 ],
 "metadata": {
  "kernelspec": {
   "display_name": "Python 3 (ipykernel)",
   "language": "python",
   "name": "python3"
  },
  "language_info": {
   "codemirror_mode": {
    "name": "ipython",
    "version": 3
   },
   "file_extension": ".py",
   "mimetype": "text/x-python",
   "name": "python",
   "nbconvert_exporter": "python",
   "pygments_lexer": "ipython3",
   "version": "3.9.7"
  }
 },
 "nbformat": 4,
 "nbformat_minor": 5
}
